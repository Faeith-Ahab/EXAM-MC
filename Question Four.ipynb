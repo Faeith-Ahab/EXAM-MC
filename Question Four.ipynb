{
 "cells": [
  {
   "cell_type": "markdown",
   "metadata": {},
   "source": [
    "Construct a matrix as a numpy array\n",
    "\n",
    "1      0.2     0.5\n",
    "0.2    1       0.8\n",
    "0.5    0.8     1"
   ]
  },
  {
   "cell_type": "code",
   "execution_count": 4,
   "metadata": {},
   "outputs": [
    {
     "name": "stdout",
     "output_type": "stream",
     "text": [
      "[[1.  0.2 0.5]\n",
      " [0.2 1.  0.8]\n",
      " [0.5 0.8 1. ]]\n"
     ]
    }
   ],
   "source": [
    "#matrix \n",
    "\n",
    "import numpy as np\n",
    "\n",
    "mymatrix = np.array([[1, 0.2 , 0.5 ],\n",
    "                     [0.2 , 1 , 0.8], \n",
    "                     [0.5 , 0.8 , 1]])\n",
    "\n",
    "print(mymatrix)\n"
   ]
  },
  {
   "cell_type": "code",
   "execution_count": 3,
   "metadata": {},
   "outputs": [
    {
     "name": "stdout",
     "output_type": "stream",
     "text": [
      "[[ 1.56521739  0.86956522 -1.47826087]\n",
      " [ 0.86956522  3.26086957 -3.04347826]\n",
      " [-1.47826087 -3.04347826  4.17391304]]\n"
     ]
    }
   ],
   "source": [
    "#Inversion of matrix\n",
    "\n",
    "print(np.linalg.inv(mymatrix))\n"
   ]
  },
  {
   "cell_type": "code",
   "execution_count": 6,
   "metadata": {},
   "outputs": [
    {
     "name": "stdout",
     "output_type": "stream",
     "text": [
      "0.2299999999999999\n"
     ]
    }
   ],
   "source": [
    "#Determinant of the matrix\n",
    "\n",
    "determinant = np.linalg.det(mymatrix)\n",
    "\n",
    "print(determinant)\n"
   ]
  },
  {
   "cell_type": "code",
   "execution_count": 9,
   "metadata": {},
   "outputs": [
    {
     "name": "stdout",
     "output_type": "stream",
     "text": [
      "QRResult(Q=array([[-0.88045091,  0.38615039, -0.27512557],\n",
      "       [-0.17609018, -0.80507368, -0.566435  ],\n",
      "       [-0.44022545, -0.4502713 ,  0.77682515]]), R=array([[-1.13578167, -0.70436073, -1.02132305],\n",
      "       [ 0.        , -1.08806065, -0.90125505],\n",
      "       [ 0.        ,  0.        ,  0.18611436]]))\n"
     ]
    }
   ],
   "source": [
    "#Decompose the matrix\n",
    "\n",
    "decomposition = np.linalg.qr(mymatrix)\n",
    "\n",
    "print(decomposition)\n"
   ]
  },
  {
   "cell_type": "code",
   "execution_count": 10,
   "metadata": {},
   "outputs": [
    {
     "name": "stdout",
     "output_type": "stream",
     "text": [
      "[[1.  0.2 0.5]\n",
      " [0.2 1.  0.8]\n",
      " [0.5 0.8 1. ]]\n"
     ]
    }
   ],
   "source": [
    "#Transfrom the matrix\n",
    "\n",
    "transformation = mymatrix.transpose() \n",
    "\n",
    "print(transformation)\n",
    "\n"
   ]
  }
 ],
 "metadata": {
  "kernelspec": {
   "display_name": "Python 3",
   "language": "python",
   "name": "python3"
  },
  "language_info": {
   "codemirror_mode": {
    "name": "ipython",
    "version": 3
   },
   "file_extension": ".py",
   "mimetype": "text/x-python",
   "name": "python",
   "nbconvert_exporter": "python",
   "pygments_lexer": "ipython3",
   "version": "3.11.4"
  }
 },
 "nbformat": 4,
 "nbformat_minor": 2
}
