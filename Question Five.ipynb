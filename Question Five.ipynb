{
 "cells": [
  {
   "cell_type": "markdown",
   "metadata": {},
   "source": [
    "Write a python program to solve three linear equations using matrices."
   ]
  },
  {
   "cell_type": "code",
   "execution_count": 4,
   "metadata": {},
   "outputs": [
    {
     "name": "stdout",
     "output_type": "stream",
     "text": [
      "Linear equation system ONE:\n",
      "a + b = 90\n",
      "and\n",
      "4a + 7b = 555\n",
      "The solution to the linear equation using matrix method is :\n",
      "[a,b]= [25. 65.]\n"
     ]
    }
   ],
   "source": [
    "import numpy as py\n",
    "\n",
    "\n",
    "#Linear equation ONE\n",
    "\n",
    "print(\"Linear equation system ONE:\")\n",
    "print('a + b = 90')\n",
    "print ('and')\n",
    "print('4a + 7b = 555')\n",
    "\n",
    "#Formation of the matrices from the equations\n",
    "X = py.array ([[1,1],[4,7]])\n",
    "Y = py.array([90,555])\n",
    "\n",
    "#Function call and calculation\n",
    "answer_one = py.linalg.solve(X,Y)\n",
    "\n",
    "#Display the result\n",
    "print(\"The solution to the linear equation using matrix method is :\")\n",
    "print(\"[a,b]=\", answer_one)"
   ]
  },
  {
   "cell_type": "code",
   "execution_count": 10,
   "metadata": {},
   "outputs": [
    {
     "name": "stdout",
     "output_type": "stream",
     "text": [
      "Linear equation system TWO:\n",
      "c + d = 96\n",
      "and\n",
      "5c + 8d = 560\n",
      "The solution to the linear equation using matrix method is :\n",
      "[c,a]= [69.33333333 26.66666667]\n"
     ]
    }
   ],
   "source": [
    "import numpy as py\n",
    "\n",
    "\n",
    "#Linear equation TWO\n",
    "\n",
    "print(\"Linear equation system TWO:\")\n",
    "print('c + d = 96')\n",
    "print ('and')\n",
    "print('5c + 8d = 560')\n",
    "\n",
    "#Formation of the matrices from the equations\n",
    "X = py.array ([[1,1],[5,8]])\n",
    "Y = py.array([96,560])\n",
    "\n",
    "#Function call and calculation\n",
    "answer_two = py.linalg.solve(X,Y)\n",
    "\n",
    "#Display the result\n",
    "print(\"The solution to the linear equation using matrix method is :\")\n",
    "print(\"[c,a]=\", answer_two)"
   ]
  },
  {
   "cell_type": "code",
   "execution_count": 9,
   "metadata": {},
   "outputs": [
    {
     "name": "stdout",
     "output_type": "stream",
     "text": [
      "Linear equation system THREE:\n",
      "4e + 6f = 100\n",
      "and\n",
      "8e + 10f = 700\n",
      "The solution to the linear equation using matrix method is :\n",
      "[c,a]= [ 400. -250.]\n"
     ]
    }
   ],
   "source": [
    "import numpy as py\n",
    "\n",
    "\n",
    "#Linear equation THREE\n",
    "\n",
    "print(\"Linear equation system THREE:\")\n",
    "print('4e + 6f = 100')\n",
    "print ('and')\n",
    "print('8e + 10f = 700')\n",
    "\n",
    "#Formation of the matrices from the equations\n",
    "X = py.array ([[4,6],[8,10]])\n",
    "Y = py.array([100,700])\n",
    "\n",
    "#Function call and calculation\n",
    "answer_three = py.linalg.solve(X,Y)\n",
    "\n",
    "#Display the result\n",
    "print(\"The solution to the linear equation using matrix method is :\")\n",
    "print(\"[e,f]=\", answer_three)"
   ]
  }
 ],
 "metadata": {
  "kernelspec": {
   "display_name": "Python 3",
   "language": "python",
   "name": "python3"
  },
  "language_info": {
   "codemirror_mode": {
    "name": "ipython",
    "version": 3
   },
   "file_extension": ".py",
   "mimetype": "text/x-python",
   "name": "python",
   "nbconvert_exporter": "python",
   "pygments_lexer": "ipython3",
   "version": "3.11.4"
  }
 },
 "nbformat": 4,
 "nbformat_minor": 2
}
